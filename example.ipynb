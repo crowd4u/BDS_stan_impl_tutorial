{
 "cells": [
  {
   "cell_type": "markdown",
   "id": "05c88554-0edd-49a1-bf28-56c4ef25433c",
   "metadata": {},
   "source": [
    "# BDSチュートリアル"
   ]
  },
  {
   "cell_type": "code",
   "execution_count": 1,
   "id": "2cc46d1a-1375-42e9-89d7-70590b59bb00",
   "metadata": {},
   "outputs": [],
   "source": [
    "import pandas as pd"
   ]
  },
  {
   "cell_type": "code",
   "execution_count": 2,
   "id": "f4e2d515-c178-41be-adfa-34401624d693",
   "metadata": {},
   "outputs": [],
   "source": [
    "from wrappers.bds_stan_wrapper import BDS"
   ]
  },
  {
   "cell_type": "code",
   "execution_count": 3,
   "id": "96ce7c2f-126c-4dd3-b26f-72f9415a247c",
   "metadata": {},
   "outputs": [],
   "source": [
    "from crowdkit.aggregation import DawidSkene\n",
    "from crowdkit.datasets import load_dataset"
   ]
  },
  {
   "cell_type": "markdown",
   "id": "7c630b7d-696a-4878-9a65-3e545888c0c9",
   "metadata": {},
   "source": [
    "## Load Data\n",
    "サンプルデータとして，以下のデータをダウンロードして，`sample_dataset.csv`として保存してください．\n",
    "\n",
    "https://github.com/crowd4u/crowd_aggregation_datasets/blob/main/TinyImagenet/dataset.csv\n",
    "\n",
    "上記ファイルでなくても，`crowd-kit`形式ならなんでもいいです．"
   ]
  },
  {
   "cell_type": "code",
   "execution_count": 4,
   "id": "919371cf-fe77-4334-a82f-075801d6a65f",
   "metadata": {},
   "outputs": [],
   "source": [
    "df = pd.read_csv(\"sample_dataset.csv\")\n",
    "gt = df.filter([\"task\",\"gt\"]).drop_duplicates(keep='last').set_index(\"task\")\n",
    "df = df.drop([\"gt\"], axis=1)"
   ]
  },
  {
   "cell_type": "code",
   "execution_count": 5,
   "id": "7ca16203-a588-4220-a532-64124a917fbe",
   "metadata": {},
   "outputs": [
    {
     "data": {
      "text/html": [
       "<div>\n",
       "<style scoped>\n",
       "    .dataframe tbody tr th:only-of-type {\n",
       "        vertical-align: middle;\n",
       "    }\n",
       "\n",
       "    .dataframe tbody tr th {\n",
       "        vertical-align: top;\n",
       "    }\n",
       "\n",
       "    .dataframe thead th {\n",
       "        text-align: right;\n",
       "    }\n",
       "</style>\n",
       "<table border=\"1\" class=\"dataframe\">\n",
       "  <thead>\n",
       "    <tr style=\"text-align: right;\">\n",
       "      <th></th>\n",
       "      <th>task</th>\n",
       "      <th>worker</th>\n",
       "      <th>label</th>\n",
       "    </tr>\n",
       "  </thead>\n",
       "  <tbody>\n",
       "    <tr>\n",
       "      <th>0</th>\n",
       "      <td>0-48</td>\n",
       "      <td>A3KAF6CU2BYVLG</td>\n",
       "      <td>0</td>\n",
       "    </tr>\n",
       "    <tr>\n",
       "      <th>1</th>\n",
       "      <td>0-48</td>\n",
       "      <td>A361ONJ6UNYLSU</td>\n",
       "      <td>0</td>\n",
       "    </tr>\n",
       "    <tr>\n",
       "      <th>2</th>\n",
       "      <td>3-82</td>\n",
       "      <td>A3PK30QCJZFMBP</td>\n",
       "      <td>2</td>\n",
       "    </tr>\n",
       "    <tr>\n",
       "      <th>3</th>\n",
       "      <td>3-82</td>\n",
       "      <td>A3PND2XNVWO4JF</td>\n",
       "      <td>2</td>\n",
       "    </tr>\n",
       "    <tr>\n",
       "      <th>4</th>\n",
       "      <td>2-474</td>\n",
       "      <td>A2WMX6GLWV0KC</td>\n",
       "      <td>3</td>\n",
       "    </tr>\n",
       "  </tbody>\n",
       "</table>\n",
       "</div>"
      ],
      "text/plain": [
       "    task          worker  label\n",
       "0   0-48  A3KAF6CU2BYVLG      0\n",
       "1   0-48  A361ONJ6UNYLSU      0\n",
       "2   3-82  A3PK30QCJZFMBP      2\n",
       "3   3-82  A3PND2XNVWO4JF      2\n",
       "4  2-474   A2WMX6GLWV0KC      3"
      ]
     },
     "execution_count": 5,
     "metadata": {},
     "output_type": "execute_result"
    }
   ],
   "source": [
    "df.head()"
   ]
  },
  {
   "cell_type": "markdown",
   "id": "5e26a906-133c-4cd9-8c3e-74189e181469",
   "metadata": {},
   "source": [
    "**注意**：`label`が0から始まる数字になっていない場合は，事前に変換処理が必要です．"
   ]
  },
  {
   "cell_type": "markdown",
   "id": "4e894009-b955-4dec-acce-c84dcefee0ce",
   "metadata": {},
   "source": [
    "## Run BDS\n",
    "`algorithm=\"mcmc\" or \"vb\"`が選べますが，MCMCの方がおすすめです．"
   ]
  },
  {
   "cell_type": "code",
   "execution_count": 6,
   "id": "dd39d768-5b49-4aef-a301-bf009394ebb4",
   "metadata": {},
   "outputs": [],
   "source": [
    "# 初期値の設定\n",
    "infer_params = {\n",
    "    \"iter_warmup\" : 500,\n",
    "    \"iter_sampling\" : 1000,\n",
    "    # ここに指定できるパラメータは・・・\n",
    "    # MCMCの場合は以下のドキュメントを参照\n",
    "    # https://mc-stan.org/cmdstanpy/api.html#cmdstanpy.CmdStanModel.sample\n",
    "    # 変分ベイズの場合は\n",
    "    # https://mc-stan.org/cmdstanpy/api.html#cmdstanpy.CmdStanModel.variational\n",
    "}\n",
    "\n",
    "init_worker_accuracy = 0.75\n",
    "# ワーカーの事前分布に対角成分が0.75になるフラットな混同行列を仮定する\n",
    "\n",
    "labels = [0,1,2,3,4] # データセットに含まれるラベルを指定"
   ]
  },
  {
   "cell_type": "code",
   "execution_count": 7,
   "id": "eec386e7-eb8b-45c8-a5df-1437d2fd445b",
   "metadata": {},
   "outputs": [
    {
     "name": "stderr",
     "output_type": "stream",
     "text": [
      "09:41:08 - cmdstanpy - INFO - compiling stan file /app/stan_models/DS.stan to exe file /app/stan_models/DS\n",
      "09:41:39 - cmdstanpy - INFO - compiled model executable: /app/stan_models/DS\n",
      "09:41:39 - cmdstanpy - WARNING - Stan compiler has produced 8 warnings:\n",
      "09:41:39 - cmdstanpy - WARNING - \n",
      "--- Translating Stan model to C++ code ---\n",
      "bin/stanc --filename-in-msg=DS.stan --o=/app/stan_models/DS.hpp /app/stan_models/DS.stan\n",
      "Warning in 'DS.stan', line 6, column 2: Declaration of arrays by placing\n",
      "    brackets after a variable name is deprecated and will be removed in Stan\n",
      "    2.33.0. Instead use the array keyword before the type. This can be\n",
      "    changed automatically using the auto-format flag to stanc\n",
      "Warning in 'DS.stan', line 7, column 2: Declaration of arrays by placing\n",
      "    brackets after a variable name is deprecated and will be removed in Stan\n",
      "    2.33.0. Instead use the array keyword before the type. This can be\n",
      "    changed automatically using the auto-format flag to stanc\n",
      "Warning in 'DS.stan', line 8, column 2: Declaration of arrays by placing\n",
      "    brackets after a variable name is deprecated and will be removed in Stan\n",
      "    2.33.0. Instead use the array keyword before the type. This can be\n",
      "    changed automatically using the auto-format flag to stanc\n",
      "Warning in 'DS.stan', line 14, column 2: Declaration of arrays by placing\n",
      "    brackets after a variable name is deprecated and will be removed in Stan\n",
      "    2.33.0. Instead use the array keyword before the type. This can be\n",
      "    changed automatically using the auto-format flag to stanc\n",
      "Warning in 'DS.stan', line 23, column 2: Declaration of arrays by placing\n",
      "    brackets after a variable name is deprecated and will be removed in Stan\n",
      "    2.33.0. Instead use the array keyword before the type. This can be\n",
      "    changed automatically using the auto-format flag to stanc\n",
      "Warning in 'DS.stan', line 27, column 2: Declaration of arrays by placing\n",
      "    brackets after a variable name is deprecated and will be removed in Stan\n",
      "    2.33.0. Instead use the array keyword before the type. This can be\n",
      "    changed automatically using the auto-format flag to stanc\n",
      "Warning in 'DS.stan', line 29, column 2: Declaration of arrays by placing\n",
      "    brackets after a variable name is deprecated and will be removed in Stan\n",
      "    2.33.0. Instead use the array keyword before the type. This can be\n",
      "    changed automatically using the auto-format flag to stanc\n",
      "Warning in 'DS.stan', line 54, column 2: Declaration of arrays by placing\n",
      "    brackets after a variable name is deprecated and will be removed in Stan\n",
      "    2.33.0. Instead use the array keyword before the type. This can be\n",
      "    changed automatically using the auto-format flag to stanc\n",
      "\n",
      "--- Compiling, linking C++ code ---\n",
      "g++ -std=c++1y -pthread -D_REENTRANT -Wno-sign-compare -Wno-ignored-attributes      -I stan/lib/stan_math/lib/tbb_2020.3/include    -O3 -I src -I stan/src -I stan/lib/rapidjson_1.1.0/ -I lib/CLI11-1.9.1/ -I stan/lib/stan_math/ -I stan/lib/stan_math/lib/eigen_3.4.0 -I stan/lib/stan_math/lib/boost_1.78.0 -I stan/lib/stan_math/lib/sundials_6.1.1/include -I stan/lib/stan_math/lib/sundials_6.1.1/src/sundials    -DBOOST_DISABLE_ASSERTS          -c -Wno-ignored-attributes   -x c++ -o /app/stan_models/DS.o /app/stan_models/DS.hpp\n",
      "g++ -std=c++1y -pthread -D_REENTRANT -Wno-sign-compare -Wno-ignored-attributes      -I stan/lib/stan_math/lib/tbb_2020.3/include    -O3 -I src -I stan/src -I stan/lib/rapidjson_1.1.0/ -I lib/CLI11-1.9.1/ -I stan/lib/stan_math/ -I stan/lib/stan_math/lib/eigen_3.4.0 -I stan/lib/stan_math/lib/boost_1.78.0 -I stan/lib/stan_math/lib/sundials_6.1.1/include -I stan/lib/stan_math/lib/sundials_6.1.1/src/sundials    -DBOOST_DISABLE_ASSERTS               -Wl,-L,\"/root/.cmdstan/cmdstan-2.32.2/stan/lib/stan_math/lib/tbb\" -Wl,-rpath,\"/root/.cmdstan/cmdstan-2.32.2/stan/lib/stan_math/lib/tbb\"        /app/stan_models/DS.o src/cmdstan/main.o       -Wl,-L,\"/root/.cmdstan/cmdstan-2.32.2/stan/lib/stan_math/lib/tbb\" -Wl,-rpath,\"/root/.cmdstan/cmdstan-2.32.2/stan/lib/stan_math/lib/tbb\"     stan/lib/stan_math/lib/sundials_6.1.1/lib/libsundials_nvecserial.a stan/lib/stan_math/lib/sundials_6.1.1/lib/libsundials_cvodes.a stan/lib/stan_math/lib/sundials_6.1.1/lib/libsundials_idas.a stan/lib/stan_math/lib/sundials_6.1.1/lib/libsundials_kinsol.a  stan/lib/stan_math/lib/tbb/libtbb.so.2 -o /app/stan_models/DS\n",
      "rm -f /app/stan_models/DS.o\n",
      "\n"
     ]
    }
   ],
   "source": [
    "bds = BDS(labels, infer_params=infer_params, init_worker_accuracy=init_worker_accuracy, algorithm=\"mcmc\")"
   ]
  },
  {
   "cell_type": "code",
   "execution_count": 8,
   "id": "ad945dd2-6911-443a-8092-567f39072699",
   "metadata": {},
   "outputs": [
    {
     "name": "stderr",
     "output_type": "stream",
     "text": [
      "09:42:40 - cmdstanpy - INFO - CmdStan start processing\n"
     ]
    },
    {
     "data": {
      "application/vnd.jupyter.widget-view+json": {
       "model_id": "42c9028a5182462ab18d0694c3b7f885",
       "version_major": 2,
       "version_minor": 0
      },
      "text/plain": [
       "chain 1 |          | 00:00 Status"
      ]
     },
     "metadata": {},
     "output_type": "display_data"
    },
    {
     "data": {
      "application/vnd.jupyter.widget-view+json": {
       "model_id": "c5ff6bc3e8584e259cec78ac5b0f918f",
       "version_major": 2,
       "version_minor": 0
      },
      "text/plain": [
       "chain 2 |          | 00:00 Status"
      ]
     },
     "metadata": {},
     "output_type": "display_data"
    },
    {
     "data": {
      "application/vnd.jupyter.widget-view+json": {
       "model_id": "7da0f73990c946e59405bd2e3c83b40a",
       "version_major": 2,
       "version_minor": 0
      },
      "text/plain": [
       "chain 3 |          | 00:00 Status"
      ]
     },
     "metadata": {},
     "output_type": "display_data"
    },
    {
     "data": {
      "application/vnd.jupyter.widget-view+json": {
       "model_id": "95acde4388184b9d80b5933295d98b3d",
       "version_major": 2,
       "version_minor": 0
      },
      "text/plain": [
       "chain 4 |          | 00:00 Status"
      ]
     },
     "metadata": {},
     "output_type": "display_data"
    },
    {
     "name": "stdout",
     "output_type": "stream",
     "text": [
      "                                                                                                                                                                                                                                                                                                                                "
     ]
    },
    {
     "name": "stderr",
     "output_type": "stream",
     "text": [
      "09:47:33 - cmdstanpy - INFO - CmdStan done processing.\n"
     ]
    },
    {
     "name": "stdout",
     "output_type": "stream",
     "text": [
      "\n",
      "Checking Rhat values\n",
      "pi (r_hat > 1.1): 0\n",
      "q_z:\n",
      "\tClass 0 (r_hat > 1.1): 0\n",
      "\tClass 1 (r_hat > 1.1): 0\n",
      "\tClass 2 (r_hat > 1.1): 0\n",
      "\tClass 3 (r_hat > 1.1): 0\n",
      "\tClass 4 (r_hat > 1.1): 0\n"
     ]
    }
   ],
   "source": [
    "ret = bds.fit_predict(df)"
   ]
  },
  {
   "cell_type": "markdown",
   "id": "f85002d8-0f31-4ed4-a072-ea3912d13144",
   "metadata": {},
   "source": [
    "$\\hat{R}$はMCMCの収束性を判定することに利用できる値で，各変数ごとに計算されます．$\\hat{R}>1.1$であれば収束しているとみなされます．上記のサマリーでは，DS法の各変数ごとに収束していない変数の数を表示しています．"
   ]
  },
  {
   "cell_type": "code",
   "execution_count": 9,
   "id": "74991cee-23c1-40d4-a091-76c0fbd8a45b",
   "metadata": {},
   "outputs": [
    {
     "data": {
      "text/plain": [
       "task\n",
       "0-48     0\n",
       "3-82     2\n",
       "2-474    3\n",
       "4-356    4\n",
       "2-247    2\n",
       "Name: label, dtype: int64"
      ]
     },
     "execution_count": 9,
     "metadata": {},
     "output_type": "execute_result"
    }
   ],
   "source": [
    "ret.head()"
   ]
  },
  {
   "cell_type": "markdown",
   "id": "c12e059d-e905-4f78-be18-b38da2f6c7a8",
   "metadata": {},
   "source": [
    "`bds_stan_wrapper.py`は僕が書いたコードなので，頑張って解読して後は頑張ってください．"
   ]
  }
 ],
 "metadata": {
  "kernelspec": {
   "display_name": "Python 3 (ipykernel)",
   "language": "python",
   "name": "python3"
  },
  "language_info": {
   "codemirror_mode": {
    "name": "ipython",
    "version": 3
   },
   "file_extension": ".py",
   "mimetype": "text/x-python",
   "name": "python",
   "nbconvert_exporter": "python",
   "pygments_lexer": "ipython3",
   "version": "3.10.18"
  }
 },
 "nbformat": 4,
 "nbformat_minor": 5
}
